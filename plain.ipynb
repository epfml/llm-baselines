{
 "cells": [
  {
   "cell_type": "code",
   "execution_count": 17,
   "metadata": {},
   "outputs": [
    {
     "name": "stdout",
     "output_type": "stream",
     "text": [
      "Tokenizing Shakespeare texts\n"
     ]
    },
    {
     "name": "stderr",
     "output_type": "stream",
     "text": [
      "Token indices sequence length is longer than the specified maximum sequence length for this model (338025 > 1024). Running this sequence through the model will result in indexing errors\n"
     ]
    },
    {
     "name": "stdout",
     "output_type": "stream",
     "text": [
      "num train data 80 percent: 528, num val data 20 persent: 132, num tokens 338025 floor divided by max_seq_length 512\n",
      "train dataset size: 528, val dataset size: 132\n"
     ]
    }
   ],
   "source": [
    "from transformers import (\n",
    "    AutoModelForCausalLM,\n",
    "    AutoTokenizer,\n",
    "    DataCollator,\n",
    "    DataCollatorForLanguageModeling,\n",
    "    PreTrainedModel,\n",
    "    PreTrainedTokenizerBase,\n",
    "    Trainer,\n",
    ")\n",
    "import os\n",
    "import requests\n",
    "import numpy as np\n",
    "import inspect\n",
    "# detect cuda\n",
    "import torch\n",
    "\n",
    "device = torch.device(\"cuda\" if torch.cuda.is_available() else \"cpu\")\n",
    "\n",
    "class Args:\n",
    "    def __init__(self, **kwargs):\n",
    "        for key, value in kwargs.items():\n",
    "            setattr(self, key, value)\n",
    "\n",
    "# Example usage\n",
    "args = Args(\n",
    "    lr=1e-4, \n",
    "    beta1=0.9,\n",
    "    beta2=0.95,\n",
    "    weight_decay=0.1,\n",
    "    warmup_percent=0.05,\n",
    "    scheduler = 'cos',\n",
    "    batch_size=64, \n",
    "    num_epochs=3,\n",
    "    eval_freq = 20,\n",
    "    device='cuda:0',\n",
    "    model_name='gpt2',\n",
    "    max_seq_length=512,\n",
    "    prompt = \"I would like to\",\n",
    ")\n",
    "\n",
    "device_type = \"cuda\" if \"cuda\" in str(args.device) else \"cpu\"\n",
    "if device_type == \"cuda\":\n",
    "    torch.cuda.set_device(args.device)\n",
    "\n",
    "model = AutoModelForCausalLM.from_pretrained(args.model_name)\n",
    "model.to(device)\n",
    "tokenizer = AutoTokenizer.from_pretrained(args.model_name)\n",
    "tokenizer.pad_token = tokenizer.eos_token\n",
    "max_seq_length = min(tokenizer.model_max_length, args.max_seq_length)\n",
    "\n",
    "def get_shakespeare_dataset(max_seq_length=max_seq_length):\n",
    "    char_tknzr = tokenizer.encode\n",
    "    DATA_PATH = os.path.join(os.getcwd(), \"datasets\", \"shakespeare\")\n",
    "    raw_path = os.path.join(DATA_PATH, \"raw.txt\")\n",
    "    train_path = os.path.join(DATA_PATH, f\"train.npy\")\n",
    "    test_path = os.path.join(DATA_PATH, f\"test.npy\")\n",
    "    # if path is not even there, download all data\n",
    "    if not os.path.exists(DATA_PATH):\n",
    "        print(\"Downloading raw Shakespeare texts\")\n",
    "        url = \"https://raw.githubusercontent.com/karpathy/char-rnn/master/data/tinyshakespeare/input.txt\"\n",
    "        os.makedirs(DATA_PATH, exist_ok=True)\n",
    "        text = requests.get(url, timeout=60).text\n",
    "        with open(raw_path, \"w+\", encoding=\"utf8\") as f:\n",
    "            f.write(text)\n",
    "    \n",
    "    if not os.path.exists(train_path) or not os.path.exists(test_path):\n",
    "        print(\"Tokenizing Shakespeare texts\")\n",
    "        # load text\n",
    "        with open(raw_path, encoding=\"utf8\") as f:\n",
    "            text = \"\".join(f.readlines())\n",
    "        i = int(0.8*len(text))\n",
    "        # encode text\n",
    "        x_all = np.array(char_tknzr(text))\n",
    "        idx = 0\n",
    "        len_x_all = len(x_all)\n",
    "        x_seq = []\n",
    "        y_seq = []  \n",
    "        for i in range((len_x_all-1) // max_seq_length):\n",
    "            x = x_all[i*max_seq_length:(i+1)*max_seq_length]\n",
    "            y = x_all[i*max_seq_length+1:(i+1)*max_seq_length+1]\n",
    "            x_seq.append(x)\n",
    "            y_seq.append(y)\n",
    "        \n",
    "        indices = np.random.permutation(len(x_seq))\n",
    "        x_seq_shuffled = [x_seq[i] for i in indices]\n",
    "        y_seq_shuffled = [y_seq[i] for i in indices]\n",
    "        train_x, train_y = x_seq_shuffled[:int(0.8*len(x_seq))], y_seq_shuffled[:int(0.8*len(x_seq))]\n",
    "        val_x, val_y = x_seq_shuffled[int(0.8*len(x_seq)):], y_seq_shuffled[int(0.8*len(x_seq)):]\n",
    "        # mem = np.memmap(train_path, dtype=np.uint16, mode=\"w+\", shape=(len(x_seq_train), max_seq_length))\n",
    "        # for i, x in enumerate(x_seq_train):\n",
    "        #     mem[i] = x\n",
    "        # mem = np.memmap(test_path, dtype=np.uint16, mode=\"w+\", shape=(len(x_seq_test), max_seq_length))\n",
    "        # for i, x in enumerate(x_seq_test):\n",
    "        #     mem[i] = x\n",
    "    print(f'num train data 80 percent: {len(train_x)}, num val data 20 persent: {len(val_x)}, num tokens {len(x_all)} floor divided by max_seq_length {max_seq_length}')\n",
    "    \n",
    "\n",
    "    return {\"train_x\": train_x, \"train_y\": train_y, \"val_x\": val_x, \"val_y\": val_y, \"shuffle\": indices}\n",
    "\n",
    "        # x = np.array(char_tknzr(text[:i]), dtype=np.uint16)\n",
    "        # x_test = np.array(char_tknzr(text[i:]), dtype=np.uint16)\n",
    "        # # map memory\n",
    "        # mem = np.memmap(train_path, dtype=np.uint16, mode=\"w+\", shape=x.shape)\n",
    "        # mem[:] = x\n",
    "        # mem = np.memmap(test_path, dtype=np.uint16, mode=\"w+\", shape=x_test.shape)\n",
    "        # mem[:] = x_test\n",
    "\n",
    "    # # at this point we know that the binfile was properly created so we load it\n",
    "    # return {\"train\": np.memmap(train_path, dtype=np.uint16, mode=\"r\"),\n",
    "    #         \"val\": np.memmap(test_path, dtype=np.uint16, mode=\"r\"),\n",
    "    #         \"shuffle\": indices}\n",
    "class MyDataset(torch.utils.data.Dataset):\n",
    "    def __init__(self, data, labels):\n",
    "        super().__init__()\n",
    "        self.data = data\n",
    "        self.labels = labels\n",
    "\n",
    "    def __len__(self):\n",
    "        # chunk the data into sequences of length `sequence_length`\n",
    "        # NOTE: we discard the last remainding sequence if it's not of length `sequence_length`\n",
    "        return len(self.data)\n",
    "\n",
    "    def __getitem__(self, idx):\n",
    "        sample = self.data[idx]\n",
    "        label = self.labels[idx]\n",
    "        return sample, label\n",
    "\n",
    "dataset = get_shakespeare_dataset(max_seq_length=max_seq_length)\n",
    "train_dataset = MyDataset(dataset['train_x'], dataset['train_y'])# sft_config = SFTConfig(\n",
    "val_dataset = MyDataset(dataset['val_x'], dataset['val_y'])\n",
    "\n",
    "print(f\"train dataset size: {len(train_dataset)}, val dataset size: {len(val_dataset)}\")\n",
    "#     dataset_text_field=\"text\",\n",
    "#     max_seq_length=512,\n",
    "#     output_dir=\"/tmp\",\n",
    "# )\n",
    "# trainer = SFTTrainer(\n",
    "#     \"gpt2\",\n",
    "#     train_dataset=dataset,\n",
    "#     args=sft_config,\n",
    "# )\n",
    "# trainer.train()"
   ]
  },
  {
   "cell_type": "code",
   "execution_count": 18,
   "metadata": {},
   "outputs": [
    {
     "name": "stdout",
     "output_type": "stream",
     "text": [
      "num steps per epoch: 9\n",
      "num steps per val epoch: 3\n"
     ]
    }
   ],
   "source": [
    "train_loader = torch.utils.data.DataLoader(\n",
    "        train_dataset,\n",
    "        batch_size=args.batch_size,\n",
    "        shuffle=False,\n",
    "    )\n",
    "val_loader = torch.utils.data.DataLoader(\n",
    "        val_dataset,\n",
    "        batch_size=args.batch_size,\n",
    "        shuffle=False,\n",
    "    )\n",
    "\n",
    "print(f'num steps per epoch: {len(train_loader)}')\n",
    "print(f'num steps per val epoch: {len(val_loader)}')\n",
    "# data_collator = DataCollatorForLanguageModeling(tokenizer=tokenizer, mlm=False)\n"
   ]
  },
  {
   "cell_type": "code",
   "execution_count": 19,
   "metadata": {},
   "outputs": [
    {
     "name": "stdout",
     "output_type": "stream",
     "text": [
      "I would like to do it in a way that shows it's not just a gimmick,\" she told RTL's Lidia Jones.\n",
      "\n",
      "\"\n"
     ]
    }
   ],
   "source": [
    "\n",
    "input_ids = tokenizer(args.prompt, return_tensors=\"pt\").input_ids.to(device)\n",
    "gen_tokens = model.generate(\n",
    "    input_ids,\n",
    "    do_sample=True,\n",
    "    temperature=0.9,\n",
    "    max_length=30,\n",
    "    pad_token_id=tokenizer.eos_token_id  # EOS Token\n",
    ")\n",
    "gen_text = tokenizer.batch_decode(gen_tokens)[0]\n",
    "print(gen_text)"
   ]
  },
  {
   "cell_type": "code",
   "execution_count": 20,
   "metadata": {},
   "outputs": [],
   "source": [
    "\n",
    "use_fused = (device_type == 'cuda') and ('fused' in inspect.signature(torch.optim.AdamW).parameters)\n",
    "extra_args = dict(fused=True) if use_fused else dict()\n",
    "opt = torch.optim.AdamW(model.parameters(), lr=args.lr, betas=(args.beta1, args.beta2),\n",
    "                                weight_decay=args.weight_decay, **extra_args)\n",
    "\n",
    "iterations = len(train_loader) * args.num_epochs\n",
    "scheduler = torch.optim.lr_scheduler.OneCycleLR(optimizer=opt, max_lr=args.lr, \n",
    "                                                total_steps=iterations, \n",
    "                                                pct_start=args.warmup_percent, \n",
    "                                                anneal_strategy=args.scheduler, \n",
    "                                                cycle_momentum=False, div_factor=1e2, \n",
    "                                                final_div_factor=.1)"
   ]
  },
  {
   "cell_type": "code",
   "execution_count": 21,
   "metadata": {},
   "outputs": [
    {
     "name": "stderr",
     "output_type": "stream",
     "text": [
      " 11%|█         | 1/9 [00:02<00:22,  2.79s/it]"
     ]
    },
    {
     "name": "stdout",
     "output_type": "stream",
     "text": [
      "Epoch 1 Step 0: Validation Loss: 9.4229, Accuracy: 0.3460\n"
     ]
    },
    {
     "name": "stderr",
     "output_type": "stream",
     "text": [
      "100%|██████████| 9/9 [00:14<00:00,  1.61s/it]\n",
      " 11%|█         | 1/9 [00:02<00:21,  2.72s/it]"
     ]
    },
    {
     "name": "stdout",
     "output_type": "stream",
     "text": [
      "Epoch 2 Step 0: Validation Loss: 6.1429, Accuracy: 0.1787\n"
     ]
    },
    {
     "name": "stderr",
     "output_type": "stream",
     "text": [
      "100%|██████████| 9/9 [00:14<00:00,  1.60s/it]\n",
      " 11%|█         | 1/9 [00:02<00:21,  2.72s/it]"
     ]
    },
    {
     "name": "stdout",
     "output_type": "stream",
     "text": [
      "Epoch 3 Step 0: Validation Loss: 5.8890, Accuracy: 0.1741\n"
     ]
    },
    {
     "name": "stderr",
     "output_type": "stream",
     "text": [
      "100%|██████████| 9/9 [00:14<00:00,  1.60s/it]\n"
     ]
    }
   ],
   "source": [
    "from tqdm import tqdm\n",
    "\n",
    "for epoch in range(args.num_epochs):\n",
    "    model.train()\n",
    "    for step_id, (x, y) in enumerate(tqdm(train_loader)):\n",
    "        # print(f'x shape: {x.shape}, y shape: {y.shape}')\n",
    "        x = x.to(device)\n",
    "        y = y.to(device)\n",
    "        opt.zero_grad()\n",
    "        outputs = model(x, labels=y)\n",
    "        loss = outputs.loss\n",
    "        loss.backward()\n",
    "        opt.step()\n",
    "        scheduler.step()\n",
    "        opt.zero_grad()\n",
    "\n",
    "        if step_id % args.eval_freq == 0 or step_id == len(train_loader):\n",
    "            # Validation\n",
    "            model.eval()\n",
    "            correct_predictions = 0\n",
    "            total_predictions = 0\n",
    "            val_loss = 0\n",
    "            \n",
    "            with torch.no_grad():\n",
    "                for x, y in val_loader:\n",
    "                    x = x.to(device)\n",
    "                    y = y.to(device)\n",
    "                    val_outputs = model(x, labels=y)\n",
    "                    val_loss += val_outputs.loss.item()\n",
    "\n",
    "                    # Calculate token-level accuracy\n",
    "                    logits = val_outputs.logits\n",
    "                    predictions = torch.argmax(logits, dim=-1)\n",
    "                    correct_predictions += (predictions == y).sum().item()\n",
    "                    total_predictions += torch.numel(x)\n",
    "\n",
    "            avg_val_loss = val_loss / len(val_loader)\n",
    "            accuracy = correct_predictions / total_predictions\n",
    "\n",
    "            print(f\"Epoch {epoch+1} Step {step_id}: Validation Loss: {avg_val_loss:.4f}, Accuracy: {accuracy:.4f}\")\n",
    "            model.train()\n"
   ]
  },
  {
   "cell_type": "markdown",
   "metadata": {},
   "source": []
  }
 ],
 "metadata": {
  "kernelspec": {
   "display_name": "base",
   "language": "python",
   "name": "python3"
  },
  "language_info": {
   "codemirror_mode": {
    "name": "ipython",
    "version": 3
   },
   "file_extension": ".py",
   "mimetype": "text/x-python",
   "name": "python",
   "nbconvert_exporter": "python",
   "pygments_lexer": "ipython3",
   "version": "3.12.2"
  }
 },
 "nbformat": 4,
 "nbformat_minor": 2
}
