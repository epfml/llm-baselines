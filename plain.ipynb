{
 "cells": [
  {
   "cell_type": "code",
   "execution_count": 9,
   "metadata": {},
   "outputs": [
    {
     "name": "stderr",
     "output_type": "stream",
     "text": [
      "/home/yunyao/conda/lib/python3.12/site-packages/transformers/tokenization_utils_base.py:1601: FutureWarning: `clean_up_tokenization_spaces` was not set. It will be set to `True` by default. This behavior will be depracted in transformers v4.45, and will be then set to `False` by default. For more details check this issue: https://github.com/huggingface/transformers/issues/31884\n",
      "  warnings.warn(\n"
     ]
    },
    {
     "name": "stdout",
     "output_type": "stream",
     "text": [
      "Tokenizing Shakespeare texts\n"
     ]
    },
    {
     "name": "stderr",
     "output_type": "stream",
     "text": [
      "Token indices sequence length is longer than the specified maximum sequence length for this model (338025 > 1024). Running this sequence through the model will result in indexing errors\n"
     ]
    },
    {
     "name": "stdout",
     "output_type": "stream",
     "text": [
      "num train data 80 percent: 528, num val data 20 persent: 132, num tokens 338025 floor divided by max_seq_length 512\n",
      "train dataset size: 528, val dataset size: 132\n"
     ]
    }
   ],
   "source": [
    "from datasets import load_dataset\n",
    "from transformers import (\n",
    "    AutoModelForCausalLM,\n",
    "    AutoTokenizer,\n",
    "    DataCollator,\n",
    "    DataCollatorForLanguageModeling,\n",
    "    PreTrainedModel,\n",
    "    PreTrainedTokenizerBase,\n",
    "    Trainer,\n",
    ")\n",
    "import os\n",
    "import requests\n",
    "import numpy as np\n",
    "import inspect\n",
    "# detect cuda\n",
    "import torch\n",
    "\n",
    "device = torch.device(\"cuda\" if torch.cuda.is_available() else \"cpu\")\n",
    "\n",
    "class Args:\n",
    "    def __init__(self, **kwargs):\n",
    "        for key, value in kwargs.items():\n",
    "            setattr(self, key, value)\n",
    "\n",
    "# Example usage\n",
    "args = Args(\n",
    "    lr=1e-4, \n",
    "    beta1=0.9,\n",
    "    beta2=0.95,\n",
    "    weight_decay=0.1,\n",
    "    warmup_percent=0.05,\n",
    "    scheduler = 'cos',\n",
    "    batch_size=64, \n",
    "    num_epochs=3,\n",
    "    eval_freq = 20,\n",
    "    device='cuda:0',\n",
    "    model_name='gpt2',\n",
    "    max_seq_length=512,\n",
    "    prompt = \"I would like to\",\n",
    ")\n",
    "\n",
    "device_type = \"cuda\" if \"cuda\" in str(args.device) else \"cpu\"\n",
    "if device_type == \"cuda\":\n",
    "    torch.cuda.set_device(args.device)\n",
    "\n",
    "model = AutoModelForCausalLM.from_pretrained(args.model_name)\n",
    "model.to(device)\n",
    "tokenizer = AutoTokenizer.from_pretrained(args.model_name)\n",
    "tokenizer.pad_token = tokenizer.eos_token\n",
    "max_seq_length = min(tokenizer.model_max_length, args.max_seq_length)\n",
    "\n",
    "def get_shakespeare_dataset(max_seq_length=max_seq_length):\n",
    "    char_tknzr = tokenizer.encode\n",
    "    DATA_PATH = os.path.join(os.getcwd(), \"datasets\", \"shakespeare\")\n",
    "    raw_path = os.path.join(DATA_PATH, \"raw.txt\")\n",
    "    train_path = os.path.join(DATA_PATH, f\"train.npy\")\n",
    "    test_path = os.path.join(DATA_PATH, f\"test.npy\")\n",
    "    # if path is not even there, download all data\n",
    "    if not os.path.exists(DATA_PATH):\n",
    "        print(\"Downloading raw Shakespeare texts\")\n",
    "        url = \"https://raw.githubusercontent.com/karpathy/char-rnn/master/data/tinyshakespeare/input.txt\"\n",
    "        os.makedirs(DATA_PATH, exist_ok=True)\n",
    "        text = requests.get(url, timeout=60).text\n",
    "        with open(raw_path, \"w+\", encoding=\"utf8\") as f:\n",
    "            f.write(text)\n",
    "    \n",
    "    if not os.path.exists(train_path) or not os.path.exists(test_path):\n",
    "        print(\"Tokenizing Shakespeare texts\")\n",
    "        # load text\n",
    "        with open(raw_path, encoding=\"utf8\") as f:\n",
    "            text = \"\".join(f.readlines())\n",
    "        i = int(0.8*len(text))\n",
    "        # encode text\n",
    "        x_all = np.array(char_tknzr(text), dtype=np.uint16)\n",
    "        idx = 0\n",
    "        len_x_all = len(x_all)\n",
    "        x_seq = []\n",
    "        y_seq = []  \n",
    "        for i in range((len_x_all-1) // max_seq_length):\n",
    "            x = x_all[i*max_seq_length:(i+1)*max_seq_length]\n",
    "            y = x_all[i*max_seq_length+1:(i+1)*max_seq_length+1]\n",
    "            x_seq.append(x)\n",
    "            y_seq.append(y)\n",
    "        \n",
    "        indices = np.random.permutation(len(x_seq))\n",
    "        x_seq_shuffled = [x_seq[i] for i in indices]\n",
    "        y_seq_shuffled = [y_seq[i] for i in indices]\n",
    "        train_x, train_y = x_seq_shuffled[:int(0.8*len(x_seq))], y_seq_shuffled[:int(0.8*len(x_seq))]\n",
    "        val_x, val_y = x_seq_shuffled[int(0.8*len(x_seq)):], y_seq_shuffled[int(0.8*len(x_seq)):]\n",
    "        # mem = np.memmap(train_path, dtype=np.uint16, mode=\"w+\", shape=(len(x_seq_train), max_seq_length))\n",
    "        # for i, x in enumerate(x_seq_train):\n",
    "        #     mem[i] = x\n",
    "        # mem = np.memmap(test_path, dtype=np.uint16, mode=\"w+\", shape=(len(x_seq_test), max_seq_length))\n",
    "        # for i, x in enumerate(x_seq_test):\n",
    "        #     mem[i] = x\n",
    "    print(f'num train data 80 percent: {len(train_x)}, num val data 20 persent: {len(val_x)}, num tokens {len(x_all)} floor divided by max_seq_length {max_seq_length}')\n",
    "    \n",
    "\n",
    "    return {\"train_x\": train_x, \"train_y\": train_y, \"val_x\": val_x, \"val_y\": val_y, \"shuffle\": indices}\n",
    "\n",
    "        # x = np.array(char_tknzr(text[:i]), dtype=np.uint16)\n",
    "        # x_test = np.array(char_tknzr(text[i:]), dtype=np.uint16)\n",
    "        # # map memory\n",
    "        # mem = np.memmap(train_path, dtype=np.uint16, mode=\"w+\", shape=x.shape)\n",
    "        # mem[:] = x\n",
    "        # mem = np.memmap(test_path, dtype=np.uint16, mode=\"w+\", shape=x_test.shape)\n",
    "        # mem[:] = x_test\n",
    "\n",
    "    # # at this point we know that the binfile was properly created so we load it\n",
    "    # return {\"train\": np.memmap(train_path, dtype=np.uint16, mode=\"r\"),\n",
    "    #         \"val\": np.memmap(test_path, dtype=np.uint16, mode=\"r\"),\n",
    "    #         \"shuffle\": indices}\n",
    "class MyDataset(torch.utils.data.Dataset):\n",
    "    def __init__(self, data, labels):\n",
    "        super().__init__()\n",
    "        self.data = data\n",
    "        self.labels = labels\n",
    "\n",
    "    def __len__(self):\n",
    "        # chunk the data into sequences of length `sequence_length`\n",
    "        # NOTE: we discard the last remainding sequence if it's not of length `sequence_length`\n",
    "        return len(self.data)\n",
    "\n",
    "    def __getitem__(self, idx):\n",
    "        sample = self.dara[idx]\n",
    "        label = self.labels[idx]\n",
    "        return sample, label\n",
    "\n",
    "dataset = get_shakespeare_dataset(max_seq_length=max_seq_length)\n",
    "train_dataset = MyDataset(dataset['train_x'], dataset['train_y'])# sft_config = SFTConfig(\n",
    "val_dataset = MyDataset(dataset['val_x'], dataset['val_y'])\n",
    "\n",
    "print(f\"train dataset size: {len(train_dataset)}, val dataset size: {len(val_dataset)}\")\n",
    "#     dataset_text_field=\"text\",\n",
    "#     max_seq_length=512,\n",
    "#     output_dir=\"/tmp\",\n",
    "# )\n",
    "# trainer = SFTTrainer(\n",
    "#     \"gpt2\",\n",
    "#     train_dataset=dataset,\n",
    "#     args=sft_config,\n",
    "# )\n",
    "# trainer.train()"
   ]
  },
  {
   "cell_type": "code",
   "execution_count": 10,
   "metadata": {},
   "outputs": [
    {
     "ename": "KeyError",
     "evalue": "'train'",
     "output_type": "error",
     "traceback": [
      "\u001b[0;31m---------------------------------------------------------------------------\u001b[0m",
      "\u001b[0;31mKeyError\u001b[0m                                  Traceback (most recent call last)",
      "Cell \u001b[0;32mIn[10], line 2\u001b[0m\n\u001b[1;32m      1\u001b[0m train_loader \u001b[38;5;241m=\u001b[39m torch\u001b[38;5;241m.\u001b[39mutils\u001b[38;5;241m.\u001b[39mdata\u001b[38;5;241m.\u001b[39mDataLoader(\n\u001b[0;32m----> 2\u001b[0m         \u001b[43mdataset\u001b[49m\u001b[43m[\u001b[49m\u001b[38;5;124;43m\"\u001b[39;49m\u001b[38;5;124;43mtrain\u001b[39;49m\u001b[38;5;124;43m\"\u001b[39;49m\u001b[43m]\u001b[49m,\n\u001b[1;32m      3\u001b[0m         batch_size\u001b[38;5;241m=\u001b[39margs\u001b[38;5;241m.\u001b[39mbatch_size,\n\u001b[1;32m      4\u001b[0m         shuffle\u001b[38;5;241m=\u001b[39m\u001b[38;5;28;01mFalse\u001b[39;00m,\n\u001b[1;32m      5\u001b[0m     )\n\u001b[1;32m      6\u001b[0m val_loader \u001b[38;5;241m=\u001b[39m torch\u001b[38;5;241m.\u001b[39mutils\u001b[38;5;241m.\u001b[39mdata\u001b[38;5;241m.\u001b[39mDataLoader(\n\u001b[1;32m      7\u001b[0m         dataset[\u001b[38;5;124m\"\u001b[39m\u001b[38;5;124mval\u001b[39m\u001b[38;5;124m\"\u001b[39m],\n\u001b[1;32m      8\u001b[0m         batch_size\u001b[38;5;241m=\u001b[39margs\u001b[38;5;241m.\u001b[39mbatch_size,\n\u001b[1;32m      9\u001b[0m         shuffle\u001b[38;5;241m=\u001b[39m\u001b[38;5;28;01mFalse\u001b[39;00m,\n\u001b[1;32m     10\u001b[0m     )\n\u001b[1;32m     12\u001b[0m \u001b[38;5;28mprint\u001b[39m(\u001b[38;5;124mf\u001b[39m\u001b[38;5;124m'\u001b[39m\u001b[38;5;124mnum steps per epoch: \u001b[39m\u001b[38;5;132;01m{\u001b[39;00m\u001b[38;5;28mlen\u001b[39m(train_loader)\u001b[38;5;132;01m}\u001b[39;00m\u001b[38;5;124m'\u001b[39m)\n",
      "\u001b[0;31mKeyError\u001b[0m: 'train'"
     ]
    }
   ],
   "source": [
    "train_loader = torch.utils.data.DataLoader(\n",
    "        train_dataset,\n",
    "        batch_size=args.batch_size,\n",
    "        shuffle=False,\n",
    "    )\n",
    "val_loader = torch.utils.data.DataLoader(\n",
    "        val_dataset,\n",
    "        batch_size=args.batch_size,\n",
    "        shuffle=False,\n",
    "    )\n",
    "\n",
    "print(f'num steps per epoch: {len(train_loader)}')\n",
    "print(f'num steps per val epoch: {len(val_loader)}')\n",
    "# data_collator = DataCollatorForLanguageModeling(tokenizer=tokenizer, mlm=False)\n"
   ]
  },
  {
   "cell_type": "code",
   "execution_count": null,
   "metadata": {},
   "outputs": [],
   "source": [
    "\n",
    "\n",
    "def get_dataloader(data, sequence_length, batch_size, distributed_backend=None):\n",
    "    \"\"\"Create a DataLoader for the given data. If distributed_backend is provided and is truly\n",
    "    distributed (world size > 1), the DataLoader will be created with a DistributedSampler that\n",
    "    splits the data across the processes (in conjunction with DDP).\n",
    "    Otherwise, use a RandomSampler with the specified seed.\n",
    "\n",
    "    Returns both the dataloader and the sampler.\n",
    "    \"\"\"\n",
    "    dataset = Dataset(data, sequence_length=sequence_length)\n",
    "    if distributed_backend and distributed_backend.get_world_size() > 1:\n",
    "        sampler = torch.utils.data.DistributedSampler(\n",
    "            dataset,\n",
    "            shuffle=True,\n",
    "            seed=seed,\n",
    "        )\n",
    "    else:\n",
    "        g = torch.Generator()\n",
    "        g.manual_seed(seed)\n",
    "        sampler = torch.utils.data.RandomSampler(\n",
    "            dataset, replacement=False, generator=g\n",
    "        )\n",
    "\n",
    "    loader = torch.utils.data.DataLoader(\n",
    "        dataset,\n",
    "        sampler=sampler,\n",
    "        batch_size=batch_size,\n",
    "        num_workers=0,\n",
    "    )\n",
    "    return loader, sampler"
   ]
  },
  {
   "cell_type": "code",
   "execution_count": null,
   "metadata": {},
   "outputs": [
    {
     "name": "stderr",
     "output_type": "stream",
     "text": [
      "The attention mask is not set and cannot be inferred from input because pad token is same as eos token. As a consequence, you may observe unexpected behavior. Please pass your input's `attention_mask` to obtain reliable results.\n"
     ]
    },
    {
     "name": "stdout",
     "output_type": "stream",
     "text": [
      "I would like to give the audience a quick tour of New York City's newest art galleries.\n",
      "\n",
      "First, I want to show you one of\n"
     ]
    }
   ],
   "source": [
    "\n",
    "input_ids = tokenizer(args.prompt, return_tensors=\"pt\").input_ids.to(device)\n",
    "gen_tokens = model.generate(\n",
    "    input_ids,\n",
    "    do_sample=True,\n",
    "    temperature=0.9,\n",
    "    max_length=30,\n",
    "    pad_token_id=tokenizer.eos_token_id  # EOS Token\n",
    ")\n",
    "gen_text = tokenizer.batch_decode(gen_tokens)[0]\n",
    "print(gen_text)"
   ]
  },
  {
   "cell_type": "code",
   "execution_count": null,
   "metadata": {},
   "outputs": [],
   "source": [
    "\n",
    "use_fused = (device_type == 'cuda') and ('fused' in inspect.signature(torch.optim.AdamW).parameters)\n",
    "extra_args = dict(fused=True) if use_fused else dict()\n",
    "opt = torch.optim.AdamW(model.parameters(), lr=args.lr, betas=(args.beta1, args.beta2),\n",
    "                                weight_decay=args.weight_decay, **extra_args)\n",
    "\n",
    "iterations = len(train_loader) * args.num_epochs\n",
    "scheduler = torch.optim.lr_scheduler.OneCycleLR(optimizer=opt, max_lr=args.lr, \n",
    "                                                total_steps=iterations, \n",
    "                                                pct_start=args.warmup_percent, \n",
    "                                                anneal_strategy=args.scheduler, \n",
    "                                                cycle_momentum=False, div_factor=1e2, \n",
    "                                                final_div_factor=.1)"
   ]
  },
  {
   "cell_type": "code",
   "execution_count": null,
   "metadata": {},
   "outputs": [],
   "source": []
  },
  {
   "cell_type": "markdown",
   "metadata": {},
   "source": []
  }
 ],
 "metadata": {
  "kernelspec": {
   "display_name": "base",
   "language": "python",
   "name": "python3"
  },
  "language_info": {
   "codemirror_mode": {
    "name": "ipython",
    "version": 3
   },
   "file_extension": ".py",
   "mimetype": "text/x-python",
   "name": "python",
   "nbconvert_exporter": "python",
   "pygments_lexer": "ipython3",
   "version": "3.12.2"
  }
 },
 "nbformat": 4,
 "nbformat_minor": 2
}
